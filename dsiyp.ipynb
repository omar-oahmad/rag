{
  "nbformat": 4,
  "nbformat_minor": 0,
  "metadata": {
    "colab": {
      "provenance": []
    },
    "kernelspec": {
      "name": "python3",
      "display_name": "Python 3"
    },
    "language_info": {
      "name": "python"
    }
  },
  "cells": [
    {
      "cell_type": "code",
      "execution_count": 1,
      "metadata": {
        "id": "VhkhmWm4bN6M",
        "colab": {
          "base_uri": "https://localhost:8080/"
        },
        "outputId": "bcc14ba8-a836-48ca-c065-28afa0a99157"
      },
      "outputs": [
        {
          "output_type": "stream",
          "name": "stdout",
          "text": [
            "dsiyp\n"
          ]
        }
      ],
      "source": [
        "print (\"dsiyp\")"
      ]
    }
  ]
}